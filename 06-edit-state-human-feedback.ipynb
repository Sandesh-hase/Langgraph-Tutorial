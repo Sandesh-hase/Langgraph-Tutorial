{
 "cells": [
  {
   "cell_type": "markdown",
   "id": "3b2f2448-21c3-4196-9e61-0b47e7d0048b",
   "metadata": {},
   "source": [
    "## Editing State and Human Feedback\n",
    "\n",
    "\n",
    "## Review\n",
    "\n",
    "We discussed motivations for human-in-the-loop:\n",
    "\n",
    "(1) `Approval` - We can interrupt our agent, surface state to a user, and allow the user to accept an action\n",
    "\n",
    "(2) `Editing` - You can modify the state \n",
    "\n",
    "We showed how breakpoints support user approval, but don't yet know how to modify our graph state once our graph is interrupted!\n",
    "\n",
    "## Goals\n",
    "\n",
    "Now, let's show how to directly edit the graph state and insert human feedback."
   ]
  },
  {
   "cell_type": "markdown",
   "id": "28fbf6f8-242a-408e-86ea-fdc48d3f56e1",
   "metadata": {},
   "source": [
    "**Why important?**\n",
    "\n",
    "- Sometimes the user may change their request mid-way (e.g., “price of 4 apples” → “actually 5 apples”).  \n",
    "- Editing state allows us to update the agent’s understanding without restarting the entire workflow.  \n",
    "- Essential for human-in-the-loop feedback, debugging, and correction.  \n",
    "\n",
    "**Where it fits in?**\n",
    "\n",
    "- Breakpoints pause the graph execution before a node (e.g., before the agent runs).  \n",
    "- At this point, we can inject edits to the graph state before continuing execution.  \n",
    "- This gives us fine control over what happens next.  \n",
    "\n",
    "**Reducers and add_messages**\n",
    "\n",
    "- A reducer is a function that controls how updates are applied to the graph state.  \n",
    "- Each state key (like `messages`) has a reducer attached.  \n",
    "- For `messages`, the reducer is `add_messages`. It decides:  \n",
    "  - If we supply a message with an `id`, it will overwrite the existing message with the same `id`.  \n",
    "  - If we supply a message without an `id`, it will simply append that new message to the conversation history.  \n",
    "- This design gives flexibility to either:  \n",
    "  - Edit past turns (overwrite), or  \n",
    "  - Add new turns (append).  \n"
   ]
  },
  {
   "cell_type": "code",
   "execution_count": null,
   "id": "95d26b8c-d958-4d21-9ca4-4636d3dfe45c",
   "metadata": {},
   "outputs": [],
   "source": [
    "%%capture --no-stderr\n",
    "%pip install --quiet -U langgraph langchain_openai langgraph_sdk langgraph-prebuilt"
   ]
  },
  {
   "cell_type": "code",
   "execution_count": null,
   "id": "d5948594",
   "metadata": {},
   "outputs": [],
   "source": [
    "import os\n",
    "from langchain_openai import AzureChatOpenAI\n",
    "from langchain.prompts import ChatPromptTemplate\n",
    "\n",
    "# Setup Azure OpenAI model\n",
    "os.environ[\"AZURE_OPENAI_API_KEY\"] = \"your key\"\n",
    "os.environ[\"AZURE_OPENAI_ENDPOINT\"] = \"your endpoint\"\n",
    "\n",
    "\n",
    "llm = AzureChatOpenAI(\n",
    "    azure_deployment=\"gpt-4o\",   # replace with your deployment name in Azure\n",
    "    api_version=\"2024-02-01\",    # optional, update if your resource uses a different version\n",
    "    temperature=0\n",
    ")"
   ]
  },
  {
   "cell_type": "markdown",
   "id": "65a8df1f-a76a-4803-a532-ea9802106ac8",
   "metadata": {},
   "source": [
    "## Editing state \n",
    "\n",
    "Previously, we introduced breakpoints.\n",
    "\n",
    "We used them to interrupt the graph and await user approval before executing the next node.\n",
    "\n",
    "But breakpoints are also [opportunities to modify the graph state](https://langchain-ai.github.io/langgraph/how-tos/human_in_the_loop/edit-graph-state/).\n",
    "\n",
    "Let's set up our agent with a breakpoint before the `agent` node."
   ]
  },
  {
   "cell_type": "code",
   "execution_count": 2,
   "id": "bcf24f05-ac2b-455e-846c-0c50ac86e1f4",
   "metadata": {},
   "outputs": [],
   "source": [
    "\n",
    "def check_price(item: str) -> float:\n",
    "    \"\"\"Check the price of an item in the store (in INR).\n",
    "\n",
    "    Args:\n",
    "        item: name of the item (e.g., 'apple', 'milk')\n",
    "\n",
    "    Returns:\n",
    "        Price of the item in INR\n",
    "    \"\"\"\n",
    "    prices_inr = {\n",
    "        \"apple\": 30.0,      # ₹30 per apple\n",
    "        \"milk\": 60.0,       # ₹60 per litre\n",
    "        \"bread\": 40.0,      # ₹40 per loaf\n",
    "        \"chocolate\": 100.0  # ₹100 per bar\n",
    "    }\n",
    "    return prices_inr.get(item.lower(), 0.0)\n",
    "\n",
    "\n",
    "def add_to_cart(item: str, quantity: int) -> str:\n",
    "    \"\"\"Add an item to the cart with given quantity.\n",
    "\n",
    "    Args:\n",
    "        item: name of the item\n",
    "        quantity: number of items to add\n",
    "\n",
    "    Returns:\n",
    "        Confirmation message\n",
    "    \"\"\"\n",
    "    return f\"Added {quantity} x {item} to your cart.\"\n",
    "\n",
    "\n",
    "\n",
    "def calculate_total(prices: list[float]) -> str:\n",
    "    \"\"\"Calculate total bill in INR.\n",
    "\n",
    "    Args:\n",
    "        prices: list of item prices\n",
    "\n",
    "    Returns:\n",
    "        Total price formatted in INR\n",
    "    \"\"\"\n",
    "    total = sum(prices)\n",
    "    return f\"Total bill: ₹{total:.2f}\"\n",
    "\n",
    "# --- Bind tools to LLM ---\n",
    "tools = [check_price, add_to_cart, calculate_total]\n",
    "\n",
    "llm_with_tools = llm.bind_tools(tools)"
   ]
  },
  {
   "cell_type": "code",
   "execution_count": 3,
   "id": "5dfe84af-5c62-4c3f-8ed7-96b5261f0b7b",
   "metadata": {},
   "outputs": [
    {
     "data": {
      "text/markdown": [
       "```mermaid\n",
       "---\n",
       "config:\n",
       "  flowchart:\n",
       "    curve: linear\n",
       "---\n",
       "graph TD;\n",
       "\t__start__([<p>__start__</p>]):::first\n",
       "\tagent(agent<hr/><small><em>__interrupt = before</em></small>)\n",
       "\ttools(tools)\n",
       "\t__end__([<p>__end__</p>]):::last\n",
       "\t__start__ --> agent;\n",
       "\tagent -.-> __end__;\n",
       "\tagent -.-> tools;\n",
       "\ttools --> agent;\n",
       "\tclassDef default fill:#f2f0ff,line-height:1.2\n",
       "\tclassDef first fill-opacity:0\n",
       "\tclassDef last fill:#bfb6fc\n",
       "\n",
       "```"
      ],
      "text/plain": [
       "<IPython.core.display.Markdown object>"
      ]
     },
     "metadata": {},
     "output_type": "display_data"
    }
   ],
   "source": [
    "from IPython.display import Image, display\n",
    "\n",
    "from langgraph.checkpoint.memory import MemorySaver\n",
    "from langgraph.graph import MessagesState\n",
    "from langgraph.graph import START, StateGraph\n",
    "from langgraph.prebuilt import tools_condition, ToolNode\n",
    "\n",
    "from langchain_core.messages import AIMessage, HumanMessage, SystemMessage\n",
    "\n",
    "# System message (updated for shopping agent)\n",
    "sys_msg = SystemMessage(content=\"You are a helpful shopping agent that helps users check prices, add items to their cart, and calculate the total bill in INR.\")\n",
    "\n",
    "# Node\n",
    "def agent(state: MessagesState):\n",
    "    return {\"messages\": [llm_with_tools.invoke([sys_msg] + state[\"messages\"])]}\n",
    "\n",
    "# Graph\n",
    "builder = StateGraph(MessagesState)\n",
    "\n",
    "# Define nodes: these do the work\n",
    "builder.add_node(\"agent\", agent)\n",
    "builder.add_node(\"tools\", ToolNode(tools))\n",
    "\n",
    "# Define edges: these determine the control flow\n",
    "builder.add_edge(START, \"agent\")\n",
    "builder.add_conditional_edges(\n",
    "    \"agent\",\n",
    "    # If the latest message (result) from agent is a tool call -> tools_condition routes to tools\n",
    "    # If the latest message (result) from agent is a not a tool call -> tools_condition routes to END\n",
    "    tools_condition,\n",
    ")\n",
    "builder.add_edge(\"tools\", \"agent\")\n",
    "\n",
    "memory = MemorySaver()\n",
    "graph = builder.compile(interrupt_before=[\"agent\"], checkpointer=memory)\n",
    "\n",
    "# Show\n",
    "from IPython.display import display, Markdown\n",
    "\n",
    "# Get the Mermaid code\n",
    "mermaid_code = graph.get_graph().draw_mermaid()\n",
    "\n",
    "# Display in Jupyter\n",
    "display(Markdown(f\"```mermaid\\n{mermaid_code}\\n```\"))\n"
   ]
  },
  {
   "cell_type": "markdown",
   "id": "92a47fd5-1f60-41dc-9206-698ed8ece530",
   "metadata": {},
   "source": [
    "Let's run!\n",
    "\n",
    "We can see the graph is interrupted before the chat model responds. "
   ]
  },
  {
   "cell_type": "code",
   "execution_count": 4,
   "id": "a2ce488d-00e4-492e-a62c-dd98702c313f",
   "metadata": {},
   "outputs": [
    {
     "name": "stdout",
     "output_type": "stream",
     "text": [
      "================================\u001b[1m Human Message \u001b[0m=================================\n",
      "\n",
      "Whats the price of 2 chocolates?\n"
     ]
    }
   ],
   "source": [
    "# Input\n",
    "initial_input = {\"messages\": \"Whats the price of 2 chocolates?\"}\n",
    "\n",
    "# Thread\n",
    "thread = {\"configurable\": {\"thread_id\": \"1\"}}\n",
    "\n",
    "# Run the graph until the first interruption\n",
    "for event in graph.stream(initial_input, thread, stream_mode=\"values\"):\n",
    "    event['messages'][-1].pretty_print()"
   ]
  },
  {
   "cell_type": "code",
   "execution_count": 5,
   "id": "4be478ef-bd60-4d32-8a05-5f56c93a8396",
   "metadata": {},
   "outputs": [
    {
     "data": {
      "text/plain": [
       "StateSnapshot(values={'messages': [HumanMessage(content='Whats the price of 2 chocolates?', additional_kwargs={}, response_metadata={}, id='86488168-54e7-412f-a78c-6f2c220e0d61')]}, next=('agent',), config={'configurable': {'thread_id': '1', 'checkpoint_ns': '', 'checkpoint_id': '1f09cf13-4c09-6e4d-8000-a44427788051'}}, metadata={'source': 'loop', 'step': 0, 'parents': {}}, created_at='2025-09-29T05:00:23.457534+00:00', parent_config={'configurable': {'thread_id': '1', 'checkpoint_ns': '', 'checkpoint_id': '1f09cf13-4c07-66e8-bfff-b2205ba2dda9'}}, tasks=(PregelTask(id='b9296efb-6014-08de-5516-97036591b2b1', name='agent', path=('__pregel_pull', 'agent'), error=None, interrupts=(), state=None, result=None),), interrupts=())"
      ]
     },
     "execution_count": 5,
     "metadata": {},
     "output_type": "execute_result"
    }
   ],
   "source": [
    "state = graph.get_state(thread)\n",
    "state"
   ]
  },
  {
   "cell_type": "markdown",
   "id": "36ef63a1-2ab8-416d-babf-d35054e294f0",
   "metadata": {},
   "source": [
    "Now, we can directly apply a state update.\n",
    "\n",
    "Remember, updates to the `messages` key will use the `add_messages` reducer:\n",
    " \n",
    "* If we want to over-write the existing message, we can supply the message `id`.\n",
    "* If we simply want to append to our list of messages, then we can pass a message without an `id` specified, as shown below."
   ]
  },
  {
   "cell_type": "code",
   "execution_count": 6,
   "id": "a805ae0d-083f-484f-910b-416aa76e1fcb",
   "metadata": {},
   "outputs": [
    {
     "name": "stdout",
     "output_type": "stream",
     "text": [
      "content='Whats the price of 2 chocolates?' additional_kwargs={} response_metadata={} id='86488168-54e7-412f-a78c-6f2c220e0d61'\n"
     ]
    }
   ],
   "source": [
    "state = graph.get_state(thread)\n",
    "for m in state.values[\"messages\"]:\n",
    "    print(m)"
   ]
  },
  {
   "cell_type": "markdown",
   "id": "5eee3c42-aa1c-4d70-b819-da1ac399b06d",
   "metadata": {},
   "source": [
    "#### APPEND"
   ]
  },
  {
   "cell_type": "code",
   "execution_count": 7,
   "id": "cae11c12-8cbc-46fc-837a-0e46e9b5fd88",
   "metadata": {},
   "outputs": [
    {
     "data": {
      "text/plain": [
       "{'configurable': {'thread_id': '1',\n",
       "  'checkpoint_ns': '',\n",
       "  'checkpoint_id': '1f09cf1a-c21d-681b-8001-94c2beb899d7'}}"
      ]
     },
     "execution_count": 7,
     "metadata": {},
     "output_type": "execute_result"
    }
   ],
   "source": [
    "# APPEND (no id given)\n",
    "graph.update_state(\n",
    "    thread,\n",
    "    {\"messages\": [HumanMessage(content=\"No, 5\")]}\n",
    ")\n"
   ]
  },
  {
   "cell_type": "code",
   "execution_count": 8,
   "id": "90d47a3d-266f-4347-ac55-5a39ee8b90f2",
   "metadata": {},
   "outputs": [
    {
     "name": "stdout",
     "output_type": "stream",
     "text": [
      "content='Whats the price of 2 chocolates?' additional_kwargs={} response_metadata={} id='86488168-54e7-412f-a78c-6f2c220e0d61'\n",
      "content='No, 5' additional_kwargs={} response_metadata={} id='1b771808-ca4e-4a3e-8ab7-af4398adc1f3'\n"
     ]
    }
   ],
   "source": [
    "state = graph.get_state(thread)\n",
    "for m in state.values[\"messages\"]:\n",
    "    print(m)"
   ]
  },
  {
   "cell_type": "code",
   "execution_count": 9,
   "id": "ba77331f-7110-45f5-8561-b1b124c8cd12",
   "metadata": {},
   "outputs": [
    {
     "name": "stdout",
     "output_type": "stream",
     "text": [
      "================================\u001b[1m Human Message \u001b[0m=================================\n",
      "\n",
      "No, 5\n",
      "==================================\u001b[1m Ai Message \u001b[0m==================================\n",
      "Tool Calls:\n",
      "  check_price (call_MSwzlI5pWSDXglayHHDGUBCg)\n",
      " Call ID: call_MSwzlI5pWSDXglayHHDGUBCg\n",
      "  Args:\n",
      "    item: chocolate\n",
      "=================================\u001b[1m Tool Message \u001b[0m=================================\n",
      "Name: check_price\n",
      "\n",
      "100.0\n"
     ]
    }
   ],
   "source": [
    "for event in graph.stream(None, thread, stream_mode=\"values\"):\n",
    "    event['messages'][-1].pretty_print()"
   ]
  },
  {
   "cell_type": "code",
   "execution_count": 10,
   "id": "f48a8e8c-acac-4edd-bb34-7f2687cd2f41",
   "metadata": {},
   "outputs": [
    {
     "name": "stdout",
     "output_type": "stream",
     "text": [
      "=================================\u001b[1m Tool Message \u001b[0m=================================\n",
      "Name: check_price\n",
      "\n",
      "100.0\n",
      "==================================\u001b[1m Ai Message \u001b[0m==================================\n",
      "\n",
      "The price of one chocolate is ₹100. The cost for 5 chocolates would be ₹500. Would you like to add them to your cart?\n"
     ]
    }
   ],
   "source": [
    "for event in graph.stream(None, thread, stream_mode=\"values\"):\n",
    "    event['messages'][-1].pretty_print()"
   ]
  },
  {
   "cell_type": "markdown",
   "id": "b5c62531-5f55-425b-b3ea-caa53685163d",
   "metadata": {},
   "source": [
    "#### OVERWRITE"
   ]
  },
  {
   "cell_type": "code",
   "execution_count": 24,
   "id": "cf434ca3-7ef8-4541-90e8-f05bec36726a",
   "metadata": {},
   "outputs": [
    {
     "name": "stdout",
     "output_type": "stream",
     "text": [
      "================================\u001b[1m Human Message \u001b[0m=================================\n",
      "\n",
      "Whats the price of 2 chocolates?\n"
     ]
    }
   ],
   "source": [
    "# Input\n",
    "initial_input = {\"messages\": \"Whats the price of 2 chocolates?\"}\n",
    "\n",
    "# Thread\n",
    "thread = {\"configurable\": {\"thread_id\": \"3\"}}\n",
    "\n",
    "# Run the graph until the first interruption\n",
    "for event in graph.stream(initial_input, thread, stream_mode=\"values\"):\n",
    "    event['messages'][-1].pretty_print()"
   ]
  },
  {
   "cell_type": "code",
   "execution_count": 25,
   "id": "d5f9b680-85b0-4096-aa13-ffdec0ac4a4d",
   "metadata": {},
   "outputs": [
    {
     "name": "stdout",
     "output_type": "stream",
     "text": [
      "content='Whats the price of 2 chocolates?' additional_kwargs={} response_metadata={} id='ef0167d9-a7c6-4696-a061-8efa2b18be9d'\n"
     ]
    }
   ],
   "source": [
    "state = graph.get_state(thread)\n",
    "for m in state.values[\"messages\"]:\n",
    "    print(m)"
   ]
  },
  {
   "cell_type": "code",
   "execution_count": 26,
   "id": "e1a44c42-3523-4df3-9cc4-6be989fb7408",
   "metadata": {},
   "outputs": [
    {
     "name": "stdout",
     "output_type": "stream",
     "text": [
      "\n",
      "State after overwrite:\n",
      "content='No, Whats the price of 10 Chocolates?' additional_kwargs={} response_metadata={} id='ef0167d9-a7c6-4696-a061-8efa2b18be9d'\n"
     ]
    }
   ],
   "source": [
    "# OVERWRITE (id given, same as original message)\n",
    "graph.update_state(\n",
    "    thread,\n",
    "    {\"messages\": [HumanMessage(id=state.values[\"messages\"][0].id, content=\"No, Whats the price of 10 Chocolates?\")]}\n",
    ")\n",
    "\n",
    "print(\"\\nState after overwrite:\")\n",
    "state = graph.get_state(thread)\n",
    "for m in state.values[\"messages\"]:\n",
    "    print(m)\n"
   ]
  },
  {
   "cell_type": "code",
   "execution_count": 27,
   "id": "fc435365-b0d5-4972-b8d4-7fb152e7a22b",
   "metadata": {},
   "outputs": [
    {
     "name": "stdout",
     "output_type": "stream",
     "text": [
      "================================\u001b[1m Human Message \u001b[0m=================================\n",
      "\n",
      "No, Whats the price of 10 Chocolates?\n",
      "==================================\u001b[1m Ai Message \u001b[0m==================================\n",
      "Tool Calls:\n",
      "  check_price (call_WlcZ5lvAAGUmvW58kox5Zo1G)\n",
      " Call ID: call_WlcZ5lvAAGUmvW58kox5Zo1G\n",
      "  Args:\n",
      "    item: chocolate\n",
      "=================================\u001b[1m Tool Message \u001b[0m=================================\n",
      "Name: check_price\n",
      "\n",
      "100.0\n"
     ]
    }
   ],
   "source": [
    "for event in graph.stream(None, thread, stream_mode=\"values\"):\n",
    "    event['messages'][-1].pretty_print()"
   ]
  },
  {
   "cell_type": "code",
   "execution_count": 28,
   "id": "679c8857-8e96-4f04-9b6c-b7ae8ecf9b28",
   "metadata": {},
   "outputs": [
    {
     "name": "stdout",
     "output_type": "stream",
     "text": [
      "=================================\u001b[1m Tool Message \u001b[0m=================================\n",
      "Name: check_price\n",
      "\n",
      "100.0\n",
      "==================================\u001b[1m Ai Message \u001b[0m==================================\n",
      "\n",
      "The price of one chocolate is ₹100. So, the price for 10 chocolates would be ₹1000.\n"
     ]
    }
   ],
   "source": [
    "for event in graph.stream(None, thread, stream_mode=\"values\"):\n",
    "    event['messages'][-1].pretty_print()"
   ]
  },
  {
   "attachments": {},
   "cell_type": "markdown",
   "id": "bc22c3e9-b00c-4ead-b752-a682b45b3718",
   "metadata": {},
   "source": [
    "### Editing graph state in Studio\n"
   ]
  },
  {
   "cell_type": "code",
   "execution_count": 30,
   "id": "642aabab-f822-4917-9d66-3314ac5008fd",
   "metadata": {},
   "outputs": [],
   "source": [
    "# This is the URL of the local development server\n",
    "from langgraph_sdk import get_client\n",
    "client = get_client(url=\"http://127.0.0.1:2024\")"
   ]
  },
  {
   "cell_type": "code",
   "execution_count": 31,
   "id": "1c352f9e-6a0f-4a94-a083-b85b0233efa9",
   "metadata": {},
   "outputs": [
    {
     "name": "stdout",
     "output_type": "stream",
     "text": [
      "Receiving new event of type: metadata...\n",
      "--------------------------------------------------\n",
      "Receiving new event of type: values...\n",
      "{'content': 'Whats the total bill if I buy 5 apples, 3 milk packets and 2 chocolates?', 'additional_kwargs': {}, 'response_metadata': {}, 'type': 'human', 'name': None, 'id': 'aea66d03-7e1a-4ddd-a8e0-e1cd53a0ab0a', 'example': False}\n",
      "--------------------------------------------------\n"
     ]
    }
   ],
   "source": [
    "initial_input = {\"messages\": \"Whats the total bill if I buy 5 apples, 3 milk packets and 2 chocolates?\"}\n",
    "thread = await client.threads.create()\n",
    "async for chunk in client.runs.stream(\n",
    "    thread[\"thread_id\"],\n",
    "    \"agent\",\n",
    "    input=initial_input,\n",
    "    stream_mode=\"values\",\n",
    "    interrupt_before=[\"agent\"],\n",
    "):\n",
    "    print(f\"Receiving new event of type: {chunk.event}...\")\n",
    "    messages = chunk.data.get('messages', [])\n",
    "    if messages:\n",
    "        print(messages[-1])\n",
    "    print(\"-\" * 50)"
   ]
  },
  {
   "cell_type": "markdown",
   "id": "13065dd9-5f43-47d6-ac2a-9dc15c0c54e6",
   "metadata": {},
   "source": [
    "We can get the current state"
   ]
  },
  {
   "cell_type": "code",
   "execution_count": 32,
   "id": "4da2c464-3e71-496a-badc-671aeee168b6",
   "metadata": {},
   "outputs": [
    {
     "data": {
      "text/plain": [
       "{'values': {'messages': [{'content': 'Whats the total bill if I buy 5 apples, 3 milk packets and 2 chocolates?',\n",
       "    'additional_kwargs': {},\n",
       "    'response_metadata': {},\n",
       "    'type': 'human',\n",
       "    'name': None,\n",
       "    'id': 'aea66d03-7e1a-4ddd-a8e0-e1cd53a0ab0a',\n",
       "    'example': False}]},\n",
       " 'next': ['agent'],\n",
       " 'tasks': [{'id': '6858569d-deec-6136-26f0-73efee699262',\n",
       "   'name': 'agent',\n",
       "   'path': ['__pregel_pull', 'agent'],\n",
       "   'error': None,\n",
       "   'interrupts': [],\n",
       "   'checkpoint': None,\n",
       "   'state': None,\n",
       "   'result': None}],\n",
       " 'metadata': {'langgraph_auth_user': None,\n",
       "  'langgraph_auth_user_id': '',\n",
       "  'langgraph_auth_permissions': [],\n",
       "  'langgraph_request_id': '10378eea-4f3d-4bab-843b-fe6d75053a1a',\n",
       "  'graph_id': 'agent',\n",
       "  'assistant_id': 'fe096781-5601-53d2-b2f6-0d3403f7e9ca',\n",
       "  'user_id': '',\n",
       "  'created_by': 'system',\n",
       "  'run_attempt': 1,\n",
       "  'langgraph_version': '0.6.7',\n",
       "  'langgraph_api_version': '0.4.22',\n",
       "  'langgraph_plan': 'developer',\n",
       "  'langgraph_host': 'self-hosted',\n",
       "  'langgraph_api_url': 'http://127.0.0.1:2024',\n",
       "  'run_id': '019993ec-9ee3-7526-af71-651e07269130',\n",
       "  'thread_id': '5b9d8eff-8981-458d-a674-60e7d39ff726',\n",
       "  'source': 'loop',\n",
       "  'step': 0,\n",
       "  'parents': {}},\n",
       " 'created_at': '2025-09-29T05:23:02.816613+00:00',\n",
       " 'checkpoint': {'checkpoint_id': '1f09cf45-efe5-6a3c-8000-6d7eb3f2a40b',\n",
       "  'thread_id': '5b9d8eff-8981-458d-a674-60e7d39ff726',\n",
       "  'checkpoint_ns': ''},\n",
       " 'parent_checkpoint': {'checkpoint_id': '1f09cf45-efe4-6001-bfff-ea9ae8d90b78',\n",
       "  'thread_id': '5b9d8eff-8981-458d-a674-60e7d39ff726',\n",
       "  'checkpoint_ns': ''},\n",
       " 'interrupts': [],\n",
       " 'checkpoint_id': '1f09cf45-efe5-6a3c-8000-6d7eb3f2a40b',\n",
       " 'parent_checkpoint_id': '1f09cf45-efe4-6001-bfff-ea9ae8d90b78'}"
      ]
     },
     "execution_count": 32,
     "metadata": {},
     "output_type": "execute_result"
    }
   ],
   "source": [
    "current_state = await client.threads.get_state(thread['thread_id'])\n",
    "current_state"
   ]
  },
  {
   "cell_type": "markdown",
   "id": "4527bbf1-0927-41a6-aeef-d15e32bbbdc3",
   "metadata": {},
   "source": [
    "We can look at the last message in state."
   ]
  },
  {
   "cell_type": "code",
   "execution_count": 33,
   "id": "801ae2d9-0551-46b8-aee2-82293cee4011",
   "metadata": {},
   "outputs": [
    {
     "data": {
      "text/plain": [
       "{'content': 'Whats the total bill if I buy 5 apples, 3 milk packets and 2 chocolates?',\n",
       " 'additional_kwargs': {},\n",
       " 'response_metadata': {},\n",
       " 'type': 'human',\n",
       " 'name': None,\n",
       " 'id': 'aea66d03-7e1a-4ddd-a8e0-e1cd53a0ab0a',\n",
       " 'example': False}"
      ]
     },
     "execution_count": 33,
     "metadata": {},
     "output_type": "execute_result"
    }
   ],
   "source": [
    "last_message = current_state['values']['messages'][-1]\n",
    "last_message"
   ]
  },
  {
   "cell_type": "markdown",
   "id": "f0581ba8-db3d-474d-9042-b1c7f3461caf",
   "metadata": {},
   "source": [
    "We can edit it!"
   ]
  },
  {
   "cell_type": "code",
   "execution_count": 34,
   "id": "86b12be7-7e4a-40d0-8521-dced7c393c71",
   "metadata": {},
   "outputs": [
    {
     "data": {
      "text/plain": [
       "{'content': 'No, Whats the total bill if I buy 1 apples, 3 milk packets and 2 chocolates?',\n",
       " 'additional_kwargs': {},\n",
       " 'response_metadata': {},\n",
       " 'type': 'human',\n",
       " 'name': None,\n",
       " 'id': 'aea66d03-7e1a-4ddd-a8e0-e1cd53a0ab0a',\n",
       " 'example': False}"
      ]
     },
     "execution_count": 34,
     "metadata": {},
     "output_type": "execute_result"
    }
   ],
   "source": [
    "last_message['content'] = \"No, Whats the total bill if I buy 1 apples, 3 milk packets and 2 chocolates?\"\n",
    "last_message"
   ]
  },
  {
   "cell_type": "code",
   "execution_count": 35,
   "id": "f84f2c24-f281-4591-90e5-de3a5547c9da",
   "metadata": {},
   "outputs": [
    {
     "data": {
      "text/plain": [
       "{'content': 'No, Whats the total bill if I buy 1 apples, 3 milk packets and 2 chocolates?',\n",
       " 'additional_kwargs': {},\n",
       " 'response_metadata': {},\n",
       " 'type': 'human',\n",
       " 'name': None,\n",
       " 'id': 'aea66d03-7e1a-4ddd-a8e0-e1cd53a0ab0a',\n",
       " 'example': False}"
      ]
     },
     "execution_count": 35,
     "metadata": {},
     "output_type": "execute_result"
    }
   ],
   "source": [
    "last_message"
   ]
  },
  {
   "cell_type": "markdown",
   "id": "ce7b4280-6ae7-4246-9c87-44e0daa6c654",
   "metadata": {},
   "source": [
    "Remember, as we said before, updates to the `messages` key will use the same `add_messages` reducer. \n",
    "\n",
    "If we want to over-write the existing message, then we can supply the message `id`.\n",
    "\n",
    "Here, we did that. We only modified the message `content`, as shown above."
   ]
  },
  {
   "cell_type": "code",
   "execution_count": 36,
   "id": "84d33b6e-32ff-4eca-8114-345e508f3481",
   "metadata": {},
   "outputs": [
    {
     "data": {
      "text/plain": [
       "{'checkpoint': {'thread_id': '5b9d8eff-8981-458d-a674-60e7d39ff726',\n",
       "  'checkpoint_ns': '',\n",
       "  'checkpoint_id': '1f09cf48-9314-6da4-8001-4a2d1511ccfd'},\n",
       " 'configurable': {'thread_id': '5b9d8eff-8981-458d-a674-60e7d39ff726',\n",
       "  'checkpoint_ns': '',\n",
       "  'checkpoint_id': '1f09cf48-9314-6da4-8001-4a2d1511ccfd'},\n",
       " 'checkpoint_id': '1f09cf48-9314-6da4-8001-4a2d1511ccfd'}"
      ]
     },
     "execution_count": 36,
     "metadata": {},
     "output_type": "execute_result"
    }
   ],
   "source": [
    "await client.threads.update_state(thread['thread_id'], {\"messages\": last_message})"
   ]
  },
  {
   "cell_type": "markdown",
   "id": "1f07f0d1-7083-4827-babd-d3702eb59a37",
   "metadata": {},
   "source": [
    "Now, we resume by passing `None`. "
   ]
  },
  {
   "cell_type": "code",
   "execution_count": 37,
   "id": "ef18d12d-e0a6-487a-9f32-ad30e2634a20",
   "metadata": {},
   "outputs": [
    {
     "name": "stdout",
     "output_type": "stream",
     "text": [
      "Receiving new event of type: metadata...\n",
      "--------------------------------------------------\n",
      "Receiving new event of type: values...\n",
      "{'content': 'No, Whats the total bill if I buy 1 apples, 3 milk packets and 2 chocolates?', 'additional_kwargs': {}, 'response_metadata': {}, 'type': 'human', 'name': None, 'id': 'aea66d03-7e1a-4ddd-a8e0-e1cd53a0ab0a', 'example': False}\n",
      "--------------------------------------------------\n",
      "Receiving new event of type: values...\n",
      "{'content': '', 'additional_kwargs': {'tool_calls': [{'id': 'call_JVy2OLVB4TeDNticLk2wddsP', 'function': {'arguments': '{\"item\": \"apple\"}', 'name': 'check_price'}, 'type': 'function'}, {'id': 'call_Z6TVpQl4S1bRPDXuF9gxW1e3', 'function': {'arguments': '{\"item\": \"milk\"}', 'name': 'check_price'}, 'type': 'function'}, {'id': 'call_2yTy5oTy2DcPvMWT9RJnX3yQ', 'function': {'arguments': '{\"item\": \"chocolate\"}', 'name': 'check_price'}, 'type': 'function'}], 'refusal': None}, 'response_metadata': {'token_usage': {'completion_tokens': 60, 'prompt_tokens': 180, 'total_tokens': 240, 'completion_tokens_details': {'accepted_prediction_tokens': 0, 'audio_tokens': 0, 'reasoning_tokens': 0, 'rejected_prediction_tokens': 0}, 'prompt_tokens_details': {'audio_tokens': 0, 'cached_tokens': 0}}, 'model_name': 'gpt-4o-2024-11-20', 'system_fingerprint': 'fp_ee1d74bde0', 'id': 'chatcmpl-CL0ezc29TG7zQw8BoReqMgnpW2lVP', 'service_tier': None, 'prompt_filter_results': [{'prompt_index': 0, 'content_filter_results': {'hate': {'filtered': False, 'severity': 'safe'}, 'jailbreak': {'filtered': False, 'detected': False}, 'self_harm': {'filtered': False, 'severity': 'safe'}, 'sexual': {'filtered': False, 'severity': 'safe'}, 'violence': {'filtered': False, 'severity': 'safe'}}}], 'finish_reason': 'tool_calls', 'logprobs': None, 'content_filter_results': {}}, 'type': 'ai', 'name': None, 'id': 'run--35de8504-d842-469e-8fab-acc90ce6b2af-0', 'example': False, 'tool_calls': [{'name': 'check_price', 'args': {'item': 'apple'}, 'id': 'call_JVy2OLVB4TeDNticLk2wddsP', 'type': 'tool_call'}, {'name': 'check_price', 'args': {'item': 'milk'}, 'id': 'call_Z6TVpQl4S1bRPDXuF9gxW1e3', 'type': 'tool_call'}, {'name': 'check_price', 'args': {'item': 'chocolate'}, 'id': 'call_2yTy5oTy2DcPvMWT9RJnX3yQ', 'type': 'tool_call'}], 'invalid_tool_calls': [], 'usage_metadata': {'input_tokens': 180, 'output_tokens': 60, 'total_tokens': 240, 'input_token_details': {'audio': 0, 'cache_read': 0}, 'output_token_details': {'audio': 0, 'reasoning': 0}}}\n",
      "--------------------------------------------------\n",
      "Receiving new event of type: values...\n",
      "{'content': '100.0', 'additional_kwargs': {}, 'response_metadata': {}, 'type': 'tool', 'name': 'check_price', 'id': '9c2d16b3-e5f3-4daf-ac5b-282adb8a106c', 'tool_call_id': 'call_2yTy5oTy2DcPvMWT9RJnX3yQ', 'artifact': None, 'status': 'success'}\n",
      "--------------------------------------------------\n"
     ]
    }
   ],
   "source": [
    "async for chunk in client.runs.stream(\n",
    "    thread[\"thread_id\"],\n",
    "    \"agent\",\n",
    "    input=None,\n",
    "    stream_mode=\"values\",\n",
    "    interrupt_before=[\"agent\"],\n",
    "):\n",
    "    print(f\"Receiving new event of type: {chunk.event}...\")\n",
    "    messages = chunk.data.get('messages', [])\n",
    "    if messages:\n",
    "        print(messages[-1])\n",
    "    print(\"-\" * 50)"
   ]
  },
  {
   "cell_type": "markdown",
   "id": "6a82dd35-cbc8-486d-8e20-10d0c4d138d6",
   "metadata": {},
   "source": [
    "We get the result of the tool call as `9`, as expected."
   ]
  },
  {
   "cell_type": "code",
   "execution_count": 38,
   "id": "1d1bb3c7-dc26-4c32-b3df-865f41ef3c73",
   "metadata": {},
   "outputs": [
    {
     "name": "stdout",
     "output_type": "stream",
     "text": [
      "Receiving new event of type: metadata...\n",
      "--------------------------------------------------\n",
      "Receiving new event of type: values...\n",
      "{'content': '100.0', 'additional_kwargs': {}, 'response_metadata': {}, 'type': 'tool', 'name': 'check_price', 'id': '9c2d16b3-e5f3-4daf-ac5b-282adb8a106c', 'tool_call_id': 'call_2yTy5oTy2DcPvMWT9RJnX3yQ', 'artifact': None, 'status': 'success'}\n",
      "--------------------------------------------------\n",
      "Receiving new event of type: values...\n",
      "{'content': '', 'additional_kwargs': {'tool_calls': [{'id': 'call_HOMlBq9nMWBTtQnWy50h6I09', 'function': {'arguments': '{\"prices\":[30.0,180.0,200.0]}', 'name': 'calculate_total'}, 'type': 'function'}], 'refusal': None}, 'response_metadata': {'token_usage': {'completion_tokens': 25, 'prompt_tokens': 264, 'total_tokens': 289, 'completion_tokens_details': {'accepted_prediction_tokens': 0, 'audio_tokens': 0, 'reasoning_tokens': 0, 'rejected_prediction_tokens': 0}, 'prompt_tokens_details': {'audio_tokens': 0, 'cached_tokens': 0}}, 'model_name': 'gpt-4o-2024-11-20', 'system_fingerprint': 'fp_ee1d74bde0', 'id': 'chatcmpl-CL0fMtRZAROacQrg5r6tGh0wiq8lp', 'service_tier': None, 'prompt_filter_results': [{'prompt_index': 0, 'content_filter_results': {'hate': {'filtered': False, 'severity': 'safe'}, 'jailbreak': {'filtered': False, 'detected': False}, 'self_harm': {'filtered': False, 'severity': 'safe'}, 'sexual': {'filtered': False, 'severity': 'safe'}, 'violence': {'filtered': False, 'severity': 'safe'}}}], 'finish_reason': 'tool_calls', 'logprobs': None, 'content_filter_results': {}}, 'type': 'ai', 'name': None, 'id': 'run--01939ec2-883b-4911-be83-cf237a421df2-0', 'example': False, 'tool_calls': [{'name': 'calculate_total', 'args': {'prices': [30.0, 180.0, 200.0]}, 'id': 'call_HOMlBq9nMWBTtQnWy50h6I09', 'type': 'tool_call'}], 'invalid_tool_calls': [], 'usage_metadata': {'input_tokens': 264, 'output_tokens': 25, 'total_tokens': 289, 'input_token_details': {'audio': 0, 'cache_read': 0}, 'output_token_details': {'audio': 0, 'reasoning': 0}}}\n",
      "--------------------------------------------------\n",
      "Receiving new event of type: values...\n",
      "{'content': 'Total bill: ₹410.00', 'additional_kwargs': {}, 'response_metadata': {}, 'type': 'tool', 'name': 'calculate_total', 'id': '3ecdac06-8c3d-4d0b-9b20-8ead11337990', 'tool_call_id': 'call_HOMlBq9nMWBTtQnWy50h6I09', 'artifact': None, 'status': 'success'}\n",
      "--------------------------------------------------\n"
     ]
    }
   ],
   "source": [
    "async for chunk in client.runs.stream(\n",
    "    thread[\"thread_id\"],\n",
    "    \"agent\",\n",
    "    input=None,\n",
    "    stream_mode=\"values\",\n",
    "    interrupt_before=[\"agent\"],\n",
    "):\n",
    "    print(f\"Receiving new event of type: {chunk.event}...\")\n",
    "    messages = chunk.data.get('messages', [])\n",
    "    if messages:\n",
    "        print(messages[-1])\n",
    "    print(\"-\" * 50)"
   ]
  },
  {
   "cell_type": "code",
   "execution_count": 39,
   "id": "4fe7ec3c-a8dc-40a0-b1f6-440364c5d660",
   "metadata": {},
   "outputs": [
    {
     "name": "stdout",
     "output_type": "stream",
     "text": [
      "Receiving new event of type: metadata...\n",
      "--------------------------------------------------\n",
      "Receiving new event of type: values...\n",
      "{'content': 'Total bill: ₹410.00', 'additional_kwargs': {}, 'response_metadata': {}, 'type': 'tool', 'name': 'calculate_total', 'id': '3ecdac06-8c3d-4d0b-9b20-8ead11337990', 'tool_call_id': 'call_HOMlBq9nMWBTtQnWy50h6I09', 'artifact': None, 'status': 'success'}\n",
      "--------------------------------------------------\n",
      "Receiving new event of type: values...\n",
      "{'content': 'The total bill for buying 1 apple, 3 milk packets, and 2 chocolates is ₹410.00.', 'additional_kwargs': {'refusal': None}, 'response_metadata': {'token_usage': {'completion_tokens': 26, 'prompt_tokens': 303, 'total_tokens': 329, 'completion_tokens_details': {'accepted_prediction_tokens': 0, 'audio_tokens': 0, 'reasoning_tokens': 0, 'rejected_prediction_tokens': 0}, 'prompt_tokens_details': {'audio_tokens': 0, 'cached_tokens': 0}}, 'model_name': 'gpt-4o-2024-11-20', 'system_fingerprint': 'fp_ee1d74bde0', 'id': 'chatcmpl-CL0fsHPUBWPGxgfxaktXfslslNwSW', 'service_tier': None, 'prompt_filter_results': [{'prompt_index': 0, 'content_filter_results': {'hate': {'filtered': False, 'severity': 'safe'}, 'jailbreak': {'filtered': False, 'detected': False}, 'self_harm': {'filtered': False, 'severity': 'safe'}, 'sexual': {'filtered': False, 'severity': 'safe'}, 'violence': {'filtered': False, 'severity': 'safe'}}}], 'finish_reason': 'stop', 'logprobs': None, 'content_filter_results': {'hate': {'filtered': False, 'severity': 'safe'}, 'protected_material_text': {'filtered': False, 'detected': False}, 'self_harm': {'filtered': False, 'severity': 'safe'}, 'sexual': {'filtered': False, 'severity': 'safe'}, 'violence': {'filtered': False, 'severity': 'safe'}}}, 'type': 'ai', 'name': None, 'id': 'run--11daf4c0-edd2-4ac4-8a4c-d3f7505989a9-0', 'example': False, 'tool_calls': [], 'invalid_tool_calls': [], 'usage_metadata': {'input_tokens': 303, 'output_tokens': 26, 'total_tokens': 329, 'input_token_details': {'audio': 0, 'cache_read': 0}, 'output_token_details': {'audio': 0, 'reasoning': 0}}}\n",
      "--------------------------------------------------\n"
     ]
    }
   ],
   "source": [
    "async for chunk in client.runs.stream(\n",
    "    thread[\"thread_id\"],\n",
    "    \"agent\",\n",
    "    input=None,\n",
    "    stream_mode=\"values\",\n",
    "    interrupt_before=[\"agent\"],\n",
    "):\n",
    "    print(f\"Receiving new event of type: {chunk.event}...\")\n",
    "    messages = chunk.data.get('messages', [])\n",
    "    if messages:\n",
    "        print(messages[-1])\n",
    "    print(\"-\" * 50)"
   ]
  },
  {
   "cell_type": "markdown",
   "id": "6914c5ca-27e4-421c-835a-9e4327dac12f",
   "metadata": {},
   "source": [
    "## Awaiting user input\n",
    "\n",
    "So, it's clear that we can edit our agent state after a breakpoint.\n",
    "\n",
    "Now, what if we want to allow for human feedback to perform this state update?\n",
    "\n",
    "We'll add a node that [serves as a placeholder for human feedback](https://langchain-ai.github.io/langgraph/how-tos/human_in_the_loop/wait-user-input/#setup) within our agent.\n",
    "\n",
    "This `human_feedback` node allow the user to add feedback directly to state.\n",
    " \n",
    "We specify the breakpoint using `interrupt_before` our `human_feedback` node.\n",
    "\n",
    "We set up a checkpointer to save the state of the graph up until this node."
   ]
  },
  {
   "cell_type": "markdown",
   "id": "32d4ceb6-a224-4307-8196-3f53d367df5c",
   "metadata": {},
   "source": [
    "We will get feedback from the user.\n",
    "\n",
    "We use `.update_state` to update the state of the graph with the human response we get, as before.\n",
    "\n",
    "We use the `as_node=\"human_feedback\"` parameter to apply this state update as the specified node, `human_feedback`."
   ]
  },
  {
   "cell_type": "code",
   "execution_count": 40,
   "id": "3affae56-44da-4755-8773-c148bb18a636",
   "metadata": {},
   "outputs": [
    {
     "data": {
      "text/markdown": [
       "```mermaid\n",
       "---\n",
       "config:\n",
       "  flowchart:\n",
       "    curve: linear\n",
       "---\n",
       "graph TD;\n",
       "\t__start__([<p>__start__</p>]):::first\n",
       "\tagent(agent)\n",
       "\ttools(tools)\n",
       "\thuman_feedback(human_feedback<hr/><small><em>__interrupt = before</em></small>)\n",
       "\t__end__([<p>__end__</p>]):::last\n",
       "\t__start__ --> human_feedback;\n",
       "\tagent -.-> __end__;\n",
       "\tagent -.-> tools;\n",
       "\thuman_feedback --> agent;\n",
       "\ttools --> human_feedback;\n",
       "\tclassDef default fill:#f2f0ff,line-height:1.2\n",
       "\tclassDef first fill-opacity:0\n",
       "\tclassDef last fill:#bfb6fc\n",
       "\n",
       "```"
      ],
      "text/plain": [
       "<IPython.core.display.Markdown object>"
      ]
     },
     "metadata": {},
     "output_type": "display_data"
    }
   ],
   "source": [
    "from IPython.display import Image, display\n",
    "\n",
    "from langgraph.checkpoint.memory import MemorySaver\n",
    "from langgraph.graph import MessagesState\n",
    "from langgraph.graph import START, StateGraph\n",
    "from langgraph.prebuilt import tools_condition, ToolNode\n",
    "\n",
    "from langchain_core.messages import AIMessage, HumanMessage, SystemMessage\n",
    "\n",
    "# System message (updated for shopping agent)\n",
    "sys_msg = SystemMessage(content=\"You are a helpful shopping agent that helps users check prices, add items to their cart, and calculate the total bill in INR.\")\n",
    "\n",
    "# no-op node that should be interrupted on\n",
    "def human_feedback(state: MessagesState):\n",
    "    pass\n",
    "\n",
    "# Node\n",
    "def agent(state: MessagesState):\n",
    "    return {\"messages\": [llm_with_tools.invoke([sys_msg] + state[\"messages\"])]}\n",
    "\n",
    "# Graph\n",
    "builder = StateGraph(MessagesState)\n",
    "\n",
    "# Define nodes: these do the work\n",
    "builder.add_node(\"agent\", agent)\n",
    "builder.add_node(\"tools\", ToolNode(tools))\n",
    "builder.add_node(\"human_feedback\", human_feedback)\n",
    "\n",
    "# Define edges: these determine the control flow\n",
    "builder.add_edge(START, \"human_feedback\")\n",
    "builder.add_edge(\"human_feedback\", \"agent\")\n",
    "builder.add_conditional_edges(\n",
    "    \"agent\",\n",
    "    # If the latest message (result) from agent is a tool call -> tools_condition routes to tools\n",
    "    # If the latest message (result) from agent is a not a tool call -> tools_condition routes to END\n",
    "    tools_condition,\n",
    ")\n",
    "builder.add_edge(\"tools\", \"human_feedback\")\n",
    "\n",
    "memory = MemorySaver()\n",
    "graph = builder.compile(interrupt_before=[\"human_feedback\"], checkpointer=memory)\n",
    "\n",
    "# Show\n",
    "from IPython.display import display, Markdown\n",
    "\n",
    "# Get the Mermaid code\n",
    "mermaid_code = graph.get_graph().draw_mermaid()\n",
    "\n",
    "# Display in Jupyter\n",
    "display(Markdown(f\"```mermaid\\n{mermaid_code}\\n```\"))\n"
   ]
  },
  {
   "cell_type": "code",
   "execution_count": 41,
   "id": "5ad5f78d-2dda-495e-bbc5-368cbe7eff09",
   "metadata": {},
   "outputs": [
    {
     "name": "stdout",
     "output_type": "stream",
     "text": [
      "================================\u001b[1m Human Message \u001b[0m=================================\n",
      "\n",
      "Whats the price of 2 milk\n"
     ]
    },
    {
     "name": "stdout",
     "output_type": "stream",
     "text": [
      "Tell me how you want to update the state:  Whats the price of 3 milk packet?\n"
     ]
    },
    {
     "name": "stdout",
     "output_type": "stream",
     "text": [
      "================================\u001b[1m Human Message \u001b[0m=================================\n",
      "\n",
      "Whats the price of 3 milk packet?\n",
      "==================================\u001b[1m Ai Message \u001b[0m==================================\n",
      "Tool Calls:\n",
      "  check_price (call_huMkiGkI704be2kLnSkrT8Ch)\n",
      " Call ID: call_huMkiGkI704be2kLnSkrT8Ch\n",
      "  Args:\n",
      "    item: milk\n",
      "=================================\u001b[1m Tool Message \u001b[0m=================================\n",
      "Name: check_price\n",
      "\n",
      "60.0\n"
     ]
    }
   ],
   "source": [
    "# Input\n",
    "initial_input = {\"messages\": \"Whats the price of 2 milk\"}\n",
    "\n",
    "# Thread\n",
    "thread = {\"configurable\": {\"thread_id\": \"6\"}}\n",
    "\n",
    "# Run the graph until the first interruption\n",
    "for event in graph.stream(initial_input, thread, stream_mode=\"values\"):\n",
    "    event[\"messages\"][-1].pretty_print()\n",
    "    \n",
    "# Get user input\n",
    "user_input = input(\"Tell me how you want to update the state: \")\n",
    "\n",
    "# We now update the state as if we are the human_feedback node\n",
    "graph.update_state(thread, {\"messages\": user_input}, as_node=\"human_feedback\")\n",
    "\n",
    "# Continue the graph execution\n",
    "for event in graph.stream(None, thread, stream_mode=\"values\"):\n",
    "    event[\"messages\"][-1].pretty_print()"
   ]
  },
  {
   "cell_type": "code",
   "execution_count": 42,
   "id": "3e82c75d-575e-4179-b144-57a38bbe1a5d",
   "metadata": {},
   "outputs": [
    {
     "name": "stdout",
     "output_type": "stream",
     "text": [
      "=================================\u001b[1m Tool Message \u001b[0m=================================\n",
      "Name: check_price\n",
      "\n",
      "60.0\n",
      "==================================\u001b[1m Ai Message \u001b[0m==================================\n",
      "\n",
      "The price of one milk packet is ₹60. So, the price of 3 milk packets would be ₹180.\n"
     ]
    }
   ],
   "source": [
    "# Continue the graph execution\n",
    "for event in graph.stream(None, thread, stream_mode=\"values\"):\n",
    "    event[\"messages\"][-1].pretty_print()"
   ]
  },
  {
   "cell_type": "code",
   "execution_count": null,
   "id": "2ba5d821-a9c2-4d94-a706-eebf14a903df",
   "metadata": {},
   "outputs": [],
   "source": []
  }
 ],
 "metadata": {
  "kernelspec": {
   "display_name": "Python 3 (ipykernel)",
   "language": "python",
   "name": "python3"
  },
  "language_info": {
   "codemirror_mode": {
    "name": "ipython",
    "version": 3
   },
   "file_extension": ".py",
   "mimetype": "text/x-python",
   "name": "python",
   "nbconvert_exporter": "python",
   "pygments_lexer": "ipython3",
   "version": "3.13.7"
  }
 },
 "nbformat": 4,
 "nbformat_minor": 5
}
